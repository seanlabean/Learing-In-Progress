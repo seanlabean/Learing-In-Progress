{
 "cells": [
  {
   "cell_type": "code",
   "execution_count": 55,
   "metadata": {},
   "outputs": [
    {
     "name": "stdout",
     "output_type": "stream",
     "text": [
      "3210097\n",
      "3210097.0\n"
     ]
    }
   ],
   "source": [
    "#import numpy as np\n",
    "\n",
    "print(3210097)\n",
    "\n",
    "f=open(\"./aoc-1-data.txt\", \"r\")\n",
    "mass_data = f.readlines()\n",
    "fuel_req = 0.0\n",
    "for mass in mass_data:\n",
    "    #mass_calc = np.floor(np.float(mass) / 3.0) - 2.0\n",
    "    mass_calc = int(mass)//3 - 2\n",
    "    fuel_req += mass_calc\n",
    "print fuel_req"
   ]
  },
  {
   "cell_type": "code",
   "execution_count": 50,
   "metadata": {},
   "outputs": [
    {
     "name": "stdout",
     "output_type": "stream",
     "text": [
      "None\n"
     ]
    }
   ],
   "source": [
    "def fuel_for_fuel(fuel_for_cargo, fuel_total):\n",
    "    fuel = fuel_for_cargo\n",
    "    if fuel < 0:\n",
    "        return fuel_total\n",
    "    else:\n",
    "        fuel = int(fuel_for_cargo)//3 - 2\n",
    "        fuel_total += fuel\n",
    "    fuel_for_fuel(fuel, fuel_total)\n",
    "fuel_total = fuel_req\n",
    "fuel_total = fuel_for_fuel(fuel_req, fuel_req)\n"
   ]
  },
  {
   "cell_type": "code",
   "execution_count": 58,
   "metadata": {},
   "outputs": [
    {
     "name": "stdout",
     "output_type": "stream",
     "text": [
      "178301.0\n"
     ]
    }
   ],
   "source": [
    "fuel_for_fuel = 0.0\n",
    "f = fuel_req\n",
    "while f > 0:\n",
    "    fuel_req = int(f)//3 - 2\n",
    "    fuel_for_fuel += fuel_req\n",
    "    f = fuel_req\n",
    "print fuel_for_fuel"
   ]
  },
  {
   "cell_type": "code",
   "execution_count": 60,
   "metadata": {},
   "outputs": [
    {
     "name": "stdout",
     "output_type": "stream",
     "text": [
      "-1\n",
      "3388398.0\n"
     ]
    }
   ],
   "source": [
    "print fuel_req\n",
    "print fuel_for_fuel + 3210097"
   ]
  },
  {
   "cell_type": "code",
   "execution_count": null,
   "metadata": {
    "collapsed": true
   },
   "outputs": [],
   "source": []
  }
 ],
 "metadata": {
  "kernelspec": {
   "display_name": "Python 2",
   "language": "python",
   "name": "python2"
  },
  "language_info": {
   "codemirror_mode": {
    "name": "ipython",
    "version": 2
   },
   "file_extension": ".py",
   "mimetype": "text/x-python",
   "name": "python",
   "nbconvert_exporter": "python",
   "pygments_lexer": "ipython2",
   "version": "2.7.3"
  }
 },
 "nbformat": 4,
 "nbformat_minor": 2
}
