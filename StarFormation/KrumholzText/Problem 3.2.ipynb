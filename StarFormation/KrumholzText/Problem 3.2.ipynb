{
 "cells": [
  {
   "cell_type": "markdown",
   "metadata": {},
   "source": [
    "For the purposes of this problem, we will define a brown dwarf as any object whose mass is below $M_{BD} = 0.075 M_{\\odot}$, the hydrogen burning limit. We would like to know if these could plausibly be produced via turbulent fragmentation, as appears to be the case for stars.\n",
    "\n",
    "I'm guessing this is referring to the possibility that brown dwarfs condense straight out of turbulent gas as opposed to perhaps binary formation from gas bound to a more massive star?"
   ]
  },
  {
   "cell_type": "markdown",
   "metadata": {},
   "source": [
    "# (a)"
   ]
  },
  {
   "cell_type": "markdown",
   "metadata": {},
   "source": [
    "For a Chabrier (2005) IMF (see Chapter 2, equation 2.3), compute the fraction $f_{BD}$ of the total mass of stars produced that are brown dwarfs."
   ]
  },
  {
   "cell_type": "code",
   "execution_count": 28,
   "metadata": {},
   "outputs": [
    {
     "name": "stdout",
     "output_type": "stream",
     "text": [
      "f_BD = 0.013745\n"
     ]
    }
   ],
   "source": [
    "import numpy as np\n",
    "from scipy.integrate import quad\n",
    "\n",
    "def xi(m, mc=0.22, sigma=0.57, x=1.3):\n",
    "    dndlogm = np.exp( -(np.log10(m)-np.log10(mc))**2 / (2.0*sigma**2) )\n",
    "    idx = np.where(m > 1)[0]\n",
    "    if len(idx) > 0:\n",
    "        b = np.exp( -np.log10(mc)**2 / (2.0*sigma**2) )\n",
    "        if type(dndlogm) is np.ndarray:\n",
    "            dndlogm[idx] = b*m[idx]**(-x)\n",
    "        else:\n",
    "            dndlogm = b*m**(-x)\n",
    "    return dndlogm\n",
    "\n",
    "fBD = quad(xi, 0.0, 0.075)[0] / quad(xi, 0.0, 120)[0]\n",
    "print (\"f_BD = {:f}\".format(fBD))\n"
   ]
  },
  {
   "cell_type": "markdown",
   "metadata": {},
   "source": [
    "# (b)"
   ]
  },
  {
   "cell_type": "code",
   "execution_count": 29,
   "metadata": {
    "collapsed": true
   },
   "outputs": [],
   "source": [
    "from scipy.special import erfc\n",
    "from scipy.optimize import brentq\n",
    "import matplotlib.pyplot as plt\n",
    "\n",
    "def resid(mach, nbar, fBD):\n",
    "    nmin = 2.4e6\n",
    "    x0 = np.log(nmin / nbar)\n",
    "    sigmax = np.sqrt(np.log(1.0 + mach**2/4.0))\n",
    "    xbar = sigmax**2 / 2.0\n",
    "    return fBD - 0.5*erfc( (x0 - xbar) / (np.sqrt(2)*sigmax))\n",
    "\n",
    "def machsolve(nbar, fBD):\n",
    "    if hasattr(nbar, '__iter__'):\n",
    "        mach = np.zeros(len(nbar))\n",
    "        for i, n in enumerate(nbar):\n",
    "            mach[i] = brentq(resid, 1e-3, 100, args=(n, fBD))\n",
    "        return mach\n",
    "    else:\n",
    "        return brentq(resid, 1e-3, 100, args=(nbar, fBD))\n",
    "    \n",
    "nbar = np.logspace(4,6,50)\n",
    "mach = machsolve(nbar, fBD)"
   ]
  },
  {
   "cell_type": "code",
   "execution_count": 33,
   "metadata": {},
   "outputs": [
    {
     "data": {
      "image/png": "[encoded data removed]",
      "text/plain": [
       "<matplotlib.figure.Figure at 0x113edfe10>"
      ]
     },
     "metadata": {},
     "output_type": "display_data"
    }
   ],
   "source": [
    "plt.fill_between(nbar, mach, alpha=0.5)\n",
    "plt.plot([5e4], [7], 'ro')\n",
    "plt.text(5.5e4, 7, 'IC 348')\n",
    "plt.xscale('log')\n",
    "plt.xlabel(r'$\\overline{n}$')\n",
    "plt.ylabel(r'$\\mathcal{M}$')\n",
    "plt.show()"
   ]
  },
  {
   "cell_type": "code",
   "execution_count": null,
   "metadata": {
    "collapsed": true
   },
   "outputs": [],
   "source": []
  }
 ],
 "metadata": {
  "kernelspec": {
   "display_name": "Python 2",
   "language": "python",
   "name": "python2"
  },
  "language_info": {
   "codemirror_mode": {
    "name": "ipython",
    "version": 2
   },
   "file_extension": ".py",
   "mimetype": "text/x-python",
   "name": "python",
   "nbconvert_exporter": "python",
   "pygments_lexer": "ipython2",
   "version": "2.7.3"
  }
 },
 "nbformat": 4,
 "nbformat_minor": 2
}
