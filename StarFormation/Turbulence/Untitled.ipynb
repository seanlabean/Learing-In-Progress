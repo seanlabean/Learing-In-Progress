{
 "cells": [
  {
   "cell_type": "code",
   "execution_count": 48,
   "metadata": {
    "collapsed": true
   },
   "outputs": [],
   "source": [
    "#import matplotlib as mpl\n",
    "#mpl.use('Agg') #I do not know what 'Agg' refers to.\n",
    "# the .use(_) trait sets the matplotlib 'backend' (non user-facing code)\n",
    "# to specify thing like what data format the images are to be ported to,\n",
    "# rendered with, etc.\n",
    "# The 'Agg' argument sets the image renderer to produce .png files.\n",
    "\n",
    "#matplotlib.pyplot is imported later.\n",
    "\n",
    "import yt\n",
    "import sys\n",
    "import argparse\n",
    "import numpy as np\n",
    "import os\n",
    "from scipy.interpolate import interp1d as ip1d\n",
    "import matplotlib.pyplot as plt\n",
    "\n",
    "MSun = yt.units.Msun.in_cgs().v\n",
    "cmpc = yt.units.pc.in_cgs().v\n",
    "G    = yt.physical_constants.G.v\n",
    "kB   = yt.physical_constants.kb.v\n",
    "mH   = yt.physical_constants.mass_hydrogen_cgs.v"
   ]
  },
  {
   "cell_type": "code",
   "execution_count": 18,
   "metadata": {
    "collapsed": true
   },
   "outputs": [],
   "source": [
    "    NCD = (128,128,128)\n",
    "    kmin = 1\n",
    "    kmax = 32\n",
    "    Eslp = 3./5.\n",
    "    ssbox = np.zeros(NCD, dtype=complex)\n",
    "\n",
    "    # first, create uniform complex random spectrum in whole array\n",
    "    # range of coeffs is (-sqrt(2)/2, sqrt(2)/2), it results in\n",
    "    # range (-1,1) for coeffiecient magnitudes -JW\n",
    "    # This effecrively is creating the random structure on which the\n",
    "    # turbulence velocities will be placed. -SL\n",
    "    ssbox.real = np.sqrt(2.)*(np.random.rand(NCD[0],NCD[1],NCD[2]) - 0.5)\n",
    "    ssbox.imag = np.sqrt(2.)*(np.random.rand(NCD[0],NCD[1],NCD[2]) - 0.5)\n",
    "\n",
    "    # Givent the ssbox array, create a mask that filters selected models and\n",
    "    # gives weights according to the given spectrum (Eslp).\n",
    "    # This creates a mesh of values where if the spacing is less than the\n",
    "    # minimum wave number and greater than the maximum, set the mesh value\n",
    "    # and energy spectrum coeff (and velocity?) to zero.\n",
    "    \n",
    "    ax = NCD[0]/2-abs(np.arange(NCD[0], dtype=np.float64)-NCD[0]/2)\n",
    "    ay = NCD[1]/2-abs(np.arange(NCD[1], dtype=np.float64)-NCD[1]/2)\n",
    "    az = NCD[2]/2-abs(np.arange(NCD[2], dtype=np.float64)-NCD[2]/2)\n",
    "\n",
    "    (mx, my, mz) = np.meshgrid(ax,ay,az)\n",
    "\n",
    "    mask = mx*mx + my*my + mz*mz\n",
    "    mask[np.where(mask < kmin*kmin)] = 0\n",
    "    mask[np.where(mask > kmax*kmax)] = 0\n",
    "    # E(k) ~ k^Eslp; number of modes grows with k^2 => Eslp-2\n",
    "    # v ~ sqrt(E) => 0.5*Eslp-1, k^2 is in mask => 0.25*Eslp-0.5\n",
    "    mask[np.where(mask>0)] = mask[np.where(mask>0)]**(0.25*Eslp-0.5)\n",
    "\n",
    "    ssbox *= mask"
   ]
  },
  {
   "cell_type": "code",
   "execution_count": 19,
   "metadata": {},
   "outputs": [
    {
     "name": "stdout",
     "output_type": "stream",
     "text": [
      "(-0.561263534984+0.0170778124635j)\n"
     ]
    }
   ],
   "source": [
    "print ssbox.min()"
   ]
  },
  {
   "cell_type": "code",
   "execution_count": 34,
   "metadata": {},
   "outputs": [],
   "source": [
    "def calc_sphsym_pot(r_arr, rho_arr):\n",
    "    C4pio3 = 4*np.pi/3.0\n",
    "    dr_arr       = np.correlate(r_arr, [-1,1])     # thicknesses of shells between r-points\n",
    "    rmid_arr     = np.convolve(r_arr, [0.5,0.5])   # mid-points, rmid[0] = 0\n",
    "    rmid_arr[-1] = r_arr[-1]                    # last rmid segment end at the surface\n",
    "    drmid_arr    = np.correlate(rmid_arr, [-1,1])  # thicknesses of shells between mid-points\n",
    "    r3mid_arr    = rmid_arr**3                  # r^3 at mid-points\n",
    "    dr3mid_arr   = np.correlate(r3mid_arr, [-1,1]) # volumes of shells between mid-points\n",
    "    dMrmid_arr   = rho_arr*dr3mid_arr*C4pio3    # masses of shells -\"-\n",
    "    Mrmid_arr    = dMrmid_arr.cumsum()          # enclosed mass below mid-points\n",
    "    Mrmid_arr    = np.insert(Mrmid_arr, 0, 0.0)    # central point\n",
    "    Frmid_arr    = -G*Mrmid_arr/(rmid_arr**2+1e-99) # grav. force at mid-points\n",
    "    dPhi_arr     = Frmid_arr[1:-1] * dr_arr     # prepare for integration of Fr*dr\n",
    "    pot_arr      = np.zeros(r_arr.shape[0], dtype=np.float64)\n",
    "    pot_arr[-1]  = -G*Mrmid_arr[-1]/r_arr[-1]   # -G*M/R at the sphere surface\n",
    "    pot_arr[:-1] = dPhi_arr                     # copy Fr*dr into the pot_array\n",
    "    pot_arr      = np.cumsum(pot_arr[::-1])[::-1]  # integrate from surface to the centre\n",
    "    #print 'G = ', G\n",
    "    #print 'dr_arr = ', dr_arr, dr_arr.shape\n",
    "    #print 'rmid_arr = ', rmid_arr, rmid_arr.shape\n",
    "    #print 'drmid_arr = ', drmid_arr, drmid_arr.shape\n",
    "    #print 'r3mid_arr = ', r3mid_arr, r3mid_arr.shape\n",
    "    #print 'dr3mid_arr = ', dr3mid_arr, dr3mid_arr.shape\n",
    "    #print 'dMrmid_arr = ', dMrmid_arr, dMrmid_arr.shape\n",
    "    #print 'Mrmid_arr = ', Mrmid_arr, Mrmid_arr.shape\n",
    "    #print 'Frmid_arr = ', Frmid_arr, Frmid_arr.shape\n",
    "    #print 'pot_arr = ', pot_arr, pot_arr.shape\n",
    "    return (pot_arr, Mrmid_arr, Frmid_arr)\n",
    "\n",
    "def gauss_dens_prof(Rsph, Msph, rho_rat, Nr):\n",
    "    rarr   = np.linspace(0.0, Rsph+Rsph/Nr, Nr+1)\n",
    "    sig_R  = Rsph / np.sqrt(-np.log(rho_rat)) # characteristic radius\n",
    "    rho_rarr = np.exp(-rarr*rarr/(sig_R*sig_R))\n",
    "    # calculate mass of the sphere with temporary density profile\n",
    "    (pot_rarr, Mrmid_rarr, Frmid_rarr) = calc_sphsym_pot(rarr, rho_rarr)\n",
    "    # scale the density profile to get correct sphere mass\n",
    "    rho_rarr *= Msph / Mrmid_rarr[-1]\n",
    "    return (rarr, rho_rarr)"
   ]
  },
  {
   "cell_type": "code",
   "execution_count": 53,
   "metadata": {},
   "outputs": [],
   "source": [
    "rarr, rho_arr = gauss_dens_prof(50, 1e5, 1./3., 1000)"
   ]
  },
  {
   "cell_type": "code",
   "execution_count": 54,
   "metadata": {},
   "outputs": [],
   "source": [
    "plt.figure(figsize=(7,7))\n",
    "plt.plot(rarr, rho_arr)\n",
    "plt.savefig('1e5density')"
   ]
  },
  {
   "cell_type": "code",
   "execution_count": null,
   "metadata": {
    "collapsed": true
   },
   "outputs": [],
   "source": []
  }
 ],
 "metadata": {
  "kernelspec": {
   "display_name": "Python 2",
   "language": "python",
   "name": "python2"
  },
  "language_info": {
   "codemirror_mode": {
    "name": "ipython",
    "version": 2
   },
   "file_extension": ".py",
   "mimetype": "text/x-python",
   "name": "python",
   "nbconvert_exporter": "python",
   "pygments_lexer": "ipython2",
   "version": "2.7.3"
  }
 },
 "nbformat": 4,
 "nbformat_minor": 2
}
