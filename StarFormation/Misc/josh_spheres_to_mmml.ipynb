{
 "cells": [
  {
   "cell_type": "markdown",
   "metadata": {},
   "source": [
    "# Information about Josh's turbulent sphere initial conditions\n",
    "\n",
    "2020 January 31 - Feb 01, Feb 06\n",
    "\n",
    "In paper one (Wall et al. 2019, ApJ 887:62) and paper two (2020 January draft), Josh reports the following runs:\n",
    "\n",
    "<img src=\"wall_paper_one_runs.png\" width=\"600\">\n",
    "\n",
    "<img src=\"wall_paper_two_runs.png\" width=\"600\">\n",
    "\n",
    "These correspond to, on Draco and Cartesius:\n",
    "\n",
    "    M3   -> Draco_CartM3V02A\n",
    "    M3f  -> old_M3V02B_same_cloud_from_M3V02A\n",
    "    M3f2 -> Draco_M3V02B\n",
    "    M4f -> M4V02AW          (0000 file created May 26, 2018)\n",
    "    M5f -> M5V02AW_restart  (0000 file [restart] created June 18, 2018)\n",
    "    \n",
    "Note that the M5 run started from a different folder:\n",
    "\n",
    "    M5V02AW/M5V02AW_bad_IGIMF_start  (0000 file created April 28, 2018)\n",
    "\n",
    "Josh's most recent simulation runs (started from scratch) are:\n",
    "\n",
    "    M3V02BWL10_USM  (started Sep 1 2018)\n",
    "    M4V02BWL10_USM  (started Sep 1 2018)\n",
    "    M5V02AWL10_USM  (started Sep 1 2018)\n"
   ]
  },
  {
   "cell_type": "code",
   "execution_count": null,
   "metadata": {
    "collapsed": false
   },
   "outputs": [],
   "source": [
    "from __future__ import division, print_function\n",
    "\n",
    "from datetime import datetime\n",
    "import numpy as np\n",
    "import matplotlib.pyplot as plt\n",
    "from os import path\n",
    "\n",
    "import yt\n",
    "yt.funcs.mylog.setLevel(30)  # 10=DEBUG, 20=INFO, 30=WARNING, 40=ERROR, 50=CRITICAL\n",
    "\n",
    "#from bang import FlashRun\n",
    "from ytplotlib import plot_ray_field\n",
    "\n",
    "%matplotlib inline\n",
    "%load_ext autoreload\n",
    "%autoreload 2"
   ]
  },
  {
   "cell_type": "markdown",
   "metadata": {},
   "source": [
    "# Configuration - load sphere / dataset to plot\n",
    "\n",
    "Careful... there are decent number of recurring \"global\" variables\n",
    "\n",
    "For M3 runs, use the cubes obtained by Sean from Draco, ompare to Cartesius runs that /appear/ to be based on the same initial conditions.\n",
    "\n",
    "For M5 runs, use Cartesius 0000 plot file, compare to \"mimic\" cube that is probably NOT the same initial condition."
   ]
  },
  {
   "cell_type": "code",
   "execution_count": null,
   "metadata": {},
   "outputs": [],
   "source": [
    "# M3 First attempt using cartesius data only compared to my home-made mimic sphere\n",
    "#INITIAL_PLT = \"/rigel/home/at3222/sf/joshrun/M3V02BWL10_USM/turbsph_hdf5_plt_cnt_0000\"\n",
    "#CUBE = \"/rigel/astro/users/at3222/sf/run_bin/josh_sphere_mimics/M3V02\"\n",
    "#RADIUS = 5\n",
    "#BOXHW = 7\n",
    "\n",
    "# Use cube provided by sean\n",
    "#INITIAL_PLT = \"/rigel/home/at3222/sf/joshrun/M3V02AW_USM/turbsph_hdf5_plt_cnt_0000\"  # NOTE change from BWL10 to AW\n",
    "#CUBE = \"/rigel/astro/users/at3222/sf/joshrun/cubeM3V02A\"\n",
    "#RADIUS = 3\n",
    "#BOXHW = 5\n",
    "\n",
    "# Use cube provided by sean\n",
    "#INITIAL_PLT = \"/rigel/home/at3222/sf/joshrun/M3V02BWL10_USM/turbsph_hdf5_plt_cnt_0000\"\n",
    "#CUBE = \"/rigel/astro/users/at3222/sf/joshrun/cubeM3V02B\"\n",
    "#RADIUS = 5\n",
    "#BOXHW = 7\n",
    "\n",
    "# M5 Cartesius data compared to my home-made mimic sphere\n",
    "INITIAL_PLT = \"/rigel/home/at3222/sf/joshrun/M5V02AW_bad_IGIMF_start_turbsph_hdf5_plt_cnt_0000\"\n",
    "CUBE = \"/rigel/astro/users/at3222/sf/run_bin/josh_sphere_mimics/M5V02\"\n",
    "RADIUS = 50\n",
    "BOXHW = 55\n",
    "\n",
    "cmpc = 3.0856775809623245e+18  # 1 parsec in cm; yt value\n",
    "Msun = 1.98841586e+33  # solar mass in g; yt value"
   ]
  },
  {
   "cell_type": "code",
   "execution_count": null,
   "metadata": {},
   "outputs": [],
   "source": [
    "started = datetime.now()\n",
    "print(\"loading\", INITIAL_PLT)\n",
    "ds = yt.load(INITIAL_PLT)\n",
    "ad = ds.all_data()\n",
    "print(\"done loading, elapsed\", datetime.now() - started)\n",
    "\n",
    "NREF = ds.parameters['lrefine_min']\n",
    "\n",
    "started = datetime.now()\n",
    "print(\"loading\", CUBE)\n",
    "dat = np.loadtxt(CUBE)\n",
    "print(\"done loading, elapsed\", datetime.now() - started)\n",
    "\n",
    "NBLOCK = 128\n",
    "\n",
    "assert NBLOCK**3 == dat.shape[0]\n",
    "cube_rho = np.reshape(dat[:,3], (NBLOCK,NBLOCK,NBLOCK))\n",
    "cube_vx = np.reshape(dat[:,5], (NBLOCK,NBLOCK,NBLOCK))\n",
    "cube_vy = np.reshape(dat[:,6], (NBLOCK,NBLOCK,NBLOCK))\n",
    "cube_vz = np.reshape(dat[:,7], (NBLOCK,NBLOCK,NBLOCK))"
   ]
  },
  {
   "cell_type": "markdown",
   "metadata": {},
   "source": [
    "# Check mass and density profiles.  Compare to analytic Gaussian with expected FWHM."
   ]
  },
  {
   "cell_type": "code",
   "execution_count": null,
   "metadata": {},
   "outputs": [],
   "source": [
    "def report_enclosed_mass(ds, ad, dat):\n",
    "    \"\"\"What it says on the tin\"\"\"\n",
    "    \n",
    "    # https://yt-project.org/doc/cookbook/calculating_information.html\n",
    "    mtot = ad.quantities.total_quantity([\"cell_mass\"]).in_units('g').value / 1.99e33  # solar mass in g\n",
    "    sph = ds.sphere([0,0,0], (RADIUS, \"pc\"))\n",
    "    msph = sph.quantities.total_quantity([\"cell_mass\"]).in_units('g').value / 1.99e33  # solar mass in g\n",
    "    dens_max = ad.quantities.extrema('dens')[-1].in_units('g/cm**3')\n",
    "\n",
    "    print(INITIAL_PLT)\n",
    "    print(\"Total mass (Msun):\", mtot)\n",
    "    print(\"Mass enclosed in {} pc (Msun):\".format(RADIUS), msph)\n",
    "    print(\"dens extrema\", dens_max)\n",
    "    \n",
    "    cube_total = np.sum(cube_rho) * (2*BOXHW*cmpc/NBLOCK)**3  # g\n",
    "    cube_amb = np.amin(cube_rho) * (2*BOXHW*cmpc)**3 * (1 - 4*np.pi/3*(RADIUS*cmpc)**3/(2*BOXHW*cmpc)**3)\n",
    "\n",
    "    print()\n",
    "    print(CUBE)\n",
    "    print(\"Total mass (Msun) =\".format(CUBE), cube_total / Msun)\n",
    "    print(\"Total - ambient mass (Msun):\", (cube_total - cube_amb) / Msun)  # Note that we are using analytic formula here!!!!\n",
    "    print(\"dens extrema\", np.amax(cube_rho))"
   ]
  },
  {
   "cell_type": "code",
   "execution_count": null,
   "metadata": {},
   "outputs": [],
   "source": [
    "report_enclosed_mass(ds, ad, dat)"
   ]
  },
  {
   "cell_type": "code",
   "execution_count": null,
   "metadata": {},
   "outputs": [],
   "source": [
    "def plotfile_density(ds, ax):\n",
    "    \"\"\"Plot the density from plotfile\"\"\"\n",
    "    xmin = ds.domain_left_edge.in_units('pc')[0]\n",
    "    xmax = ds.domain_right_edge.in_units('pc')[0]\n",
    "    r1 = yt.YTArray([xmin, 0, 0], input_units='kpc')\n",
    "    r2 = yt.YTArray([xmax, 0, 0], input_units='kpc')\n",
    "    r = ds.ray(r1, r2)\n",
    "    plt.sca(ax)\n",
    "    plot_ray_field(plt.gca(), r, 'density', xunit='pc', yunit='g/cm**3', fmt='.-', markersize=3, alpha=0.65, label='plt_cnt_0000')\n",
    "\n",
    "def predict_density(ds, ax):\n",
    "    \"\"\"Plot the predicted density, but using central density from simulation file\"\"\"\n",
    "    dens_max = ad.quantities.extrema('dens')[-1].in_units('g/cm**3')\n",
    "    x = np.linspace(-BOXHW, +BOXHW, 1000)  # probably not exact, beware\n",
    "    y = dens_max * np.exp( -1*x**2/RADIUS**2 )\n",
    "    ax.plot(x + BOXHW, y, '-k', linewidth=3, alpha=0.5, label='predict', zorder=-99)\n",
    "\n",
    "def cube_density(rho, ax):\n",
    "    x = np.linspace(-BOXHW, +BOXHW, num=NBLOCK)  # probably not exact, beware\n",
    "    ax.plot(x + BOXHW, rho[:,int(NBLOCK/2),int(NBLOCK/2)], '.-', markersize=3, alpha=0.65, label='mimic 128^3')"
   ]
  },
  {
   "cell_type": "code",
   "execution_count": null,
   "metadata": {},
   "outputs": [],
   "source": [
    "fig, axes = plt.subplots(1, 2, figsize=(15,6))\n",
    "for ax in axes:\n",
    "    predict_density(ds, ax)\n",
    "    plotfile_density(ds, ax)\n",
    "    cube_density(cube_rho, ax)\n",
    "    plt.xlabel('x (pc)')\n",
    "    plt.ylabel('density (g/cm^3)')\n",
    "\n",
    "axes[0].legend()\n",
    "axes[1].set_yscale('log')\n",
    "plt.suptitle(\"density slice across x axis\" + '\\n' + INITIAL_PLT + '\\n' + CUBE)\n",
    "plt.subplots_adjust(top=0.85)\n",
    "plt.show()"
   ]
  },
  {
   "cell_type": "markdown",
   "metadata": {},
   "source": [
    "# Plot and calculate volume-weighted velocity amplitude"
   ]
  },
  {
   "cell_type": "code",
   "execution_count": null,
   "metadata": {},
   "outputs": [],
   "source": [
    "def plotfile_vel(ds, ax, which='velx'):\n",
    "    \"\"\"Plot the density from plotfile\"\"\"\n",
    "    xmin = ds.domain_left_edge.in_units('pc')[0]\n",
    "    xmax = ds.domain_right_edge.in_units('pc')[0]\n",
    "    r1 = yt.YTArray([xmin, 0, 0], input_units='kpc')\n",
    "    r2 = yt.YTArray([xmax, 0, 0], input_units='kpc')\n",
    "    r = ds.ray(r1, r2)\n",
    "    plt.sca(ax)\n",
    "    plot_ray_field(plt.gca(), r, which, xunit='pc', yunit='km/s', fmt='.-', markersize=3, alpha=0.65, label='plt_cnt_0000 '+which)\n",
    "\n",
    "\n",
    "def cube_vel(cube_vel, ax, which='velx'):\n",
    "    x = np.linspace(-BOXHW, +BOXHW, num=NBLOCK)  # probably not exact, beware\n",
    "    ax.plot(x + BOXHW, cube_vel[:,int(NBLOCK/2),int(NBLOCK/2)] / 1e5,  # CONVERT to km/s\n",
    "            '.-', markersize=3, alpha=0.65, label='128^3 array '+which)"
   ]
  },
  {
   "cell_type": "code",
   "execution_count": null,
   "metadata": {},
   "outputs": [],
   "source": [
    "fig, axes = plt.subplots(1, 2, figsize=(15,6), sharex=True, sharey=True)\n",
    "\n",
    "plotfile_vel(ds, axes[0], which='velx')\n",
    "plotfile_vel(ds, axes[0], which='vely')\n",
    "plotfile_vel(ds, axes[0], which='velz')\n",
    "cube_vel(cube_vx, axes[1], which='velx')\n",
    "cube_vel(cube_vy, axes[1], which='vely')\n",
    "cube_vel(cube_vz, axes[1], which='velz')\n",
    "\n",
    "for ax in axes:\n",
    "    ax.set_xlabel('x (pc)')\n",
    "    ax.set_ylabel('velocity (km/s)')\n",
    "\n",
    "axes[0].legend()\n",
    "axes[1].legend()\n",
    "plt.suptitle(\"vel{x,y,z} slice across x axis\" + '\\n' + INITIAL_PLT + '\\n' + CUBE)\n",
    "plt.subplots_adjust(top=0.85)\n",
    "plt.show()"
   ]
  },
  {
   "cell_type": "code",
   "execution_count": null,
   "metadata": {},
   "outputs": [],
   "source": [
    "def report_mean_velocity_by_cell(ds, cover):\n",
    "    \n",
    "    xmin = ds.domain_left_edge.to('pc')[0].d\n",
    "    xmax = ds.domain_right_edge.to('pc')[0].d\n",
    "\n",
    "    sphcsel = np.sqrt(cover['x']**2 + cover['y']**2 + cover['z']**2).to('pc') < RADIUS\n",
    "\n",
    "    velx_rms = np.mean(cover['velx'][sphcsel]**2)**0.5\n",
    "    vely_rms = np.mean(cover['vely'][sphcsel]**2)**0.5\n",
    "    velz_rms = np.mean(cover['velz'][sphcsel]**2)**0.5\n",
    "    vel_rms = np.mean(cover['velx'][sphcsel]**2+cover['vely'][sphcsel]**2+cover['velz'][sphcsel]**2)**0.5\n",
    "    \n",
    "    print(\"    vx,rms\", velx_rms.to('km/s'))\n",
    "    print(\"    vy,rms\", vely_rms.to('km/s'))\n",
    "    print(\"    vz,rms\", velz_rms.to('km/s'))\n",
    "    print(\"    v,rms\", vel_rms.to('km/s'))\n",
    "\n",
    "def report_mean_velocity_by_cell_cube(vx, vy, vz):\n",
    "    \n",
    "    ax = np.linspace(-BOXHW, BOXHW, NBLOCK)\n",
    "    ay = np.linspace(-BOXHW, BOXHW, NBLOCK)\n",
    "    az = np.linspace(-BOXHW, BOXHW, NBLOCK)\n",
    "    xx,yy,zz = np.meshgrid(ax,ay,az)\n",
    "    rr = (xx*xx+yy*yy+zz*zz)**0.5\n",
    "    sphcubesel = rr < RADIUS\n",
    "\n",
    "    print(\"    vx,rms\", np.mean(vx[sphcubesel]**2)**0.5 / 1e5)  # convert to km/s\n",
    "    print(\"    vy,rms\", np.mean(vy[sphcubesel]**2)**0.5 / 1e5)  # convert to km/s\n",
    "    print(\"    vz,rms\", np.mean(vz[sphcubesel]**2)**0.5 / 1e5)  # convert to km/s\n",
    "    print(\"    v,rms\", np.mean(vx[sphcubesel]**2+vy[sphcubesel]**2+vz[sphcubesel]**2)**0.5 / 1e5)  # convert to km/s"
   ]
  },
  {
   "cell_type": "code",
   "execution_count": null,
   "metadata": {},
   "outputs": [],
   "source": [
    "cover = ds.covering_grid(level=NREF-1, left_edge=ds.domain_left_edge,\n",
    "                         dims=ds.domain_dimensions*2**(NREF-1))\n",
    "\n",
    "print(\"plt_cnt_0000,\", INITIAL_PLT)\n",
    "report_mean_velocity_by_cell(ds, cover)\n",
    "\n",
    "print(\"cube,\", CUBE)\n",
    "report_mean_velocity_by_cell_cube(cube_vx, cube_vy, cube_vz)"
   ]
  },
  {
   "cell_type": "code",
   "execution_count": null,
   "metadata": {},
   "outputs": [],
   "source": [
    "plt.hist(cover['velx'].to('km/s').value.flatten(), bins=1000, alpha=0.5, label='plt_cnt_0000')\n",
    "plt.hist(cube_vx.flatten()/1e5, bins=1000, alpha=0.5, label='mimic 128^3')\n",
    "plt.ylim(ymin=1e0, ymax=1e4)\n",
    "plt.yscale('log')\n",
    "plt.legend()\n",
    "plt.show()\n",
    "\n",
    "plt.hist(cover['vely'].to('km/s').value.flatten(), bins=1000, alpha=0.5, label='plt_cnt_0000')\n",
    "plt.hist(cube_vy.flatten()/1e5, bins=1000, alpha=0.5, label='mimic 128^3')\n",
    "plt.ylim(ymin=1e0, ymax=1e4)\n",
    "plt.yscale('log')\n",
    "plt.legend()\n",
    "plt.show()\n",
    "\n",
    "plt.hist(cover['velz'].to('km/s').value.flatten(), bins=1000, alpha=0.5, label='plt_cnt_0000')\n",
    "plt.hist(cube_vz.flatten()/1e5, bins=1000, alpha=0.5, label='mimic 128^3')\n",
    "plt.ylim(ymin=1e0, ymax=1e4)\n",
    "plt.yscale('log')\n",
    "plt.legend()\n",
    "plt.show()"
   ]
  },
  {
   "cell_type": "markdown",
   "metadata": {},
   "source": [
    "# Compute power spectrum of velocity fluctuations\n",
    "\n",
    "For a domain of length $L$ and sampling $\\Delta x = L / N$,\n",
    "FFT frequency is in units of $L$ (i.e., not angular frequency, no units of 2 pi).\n",
    "\n",
    "Thus, FFT frequency of 1 corresponds to $k = 2\\pi/L$."
   ]
  },
  {
   "cell_type": "code",
   "execution_count": null,
   "metadata": {},
   "outputs": [],
   "source": [
    "from numpy.fft import fftn, fftfreq, fftshift"
   ]
  },
  {
   "cell_type": "code",
   "execution_count": null,
   "metadata": {},
   "outputs": [],
   "source": [
    "def plot_logslope(x0, y0, slope, x1, *args, **kwargs):\n",
    "    assert x0 > 0\n",
    "    xarr = np.logspace(np.log10(x0), np.log10(x1), 100)\n",
    "    yarr = y0 * (xarr/x0)**slope\n",
    "    return plt.plot(xarr, yarr, *args, **kwargs)"
   ]
  },
  {
   "cell_type": "code",
   "execution_count": null,
   "metadata": {},
   "outputs": [],
   "source": [
    "def compute_psd(arr, mbinfactor=3):\n",
    "    \"\"\"compute one-d PSD in k/(2pi) space\"\"\"\n",
    "    \n",
    "    assert len(arr.shape) == 3\n",
    "    assert arr.shape[0] == arr.shape[1] == arr.shape[2]\n",
    "    \n",
    "    mx, my, mz = np.meshgrid(\n",
    "        fftfreq(arr.shape[0], d=1./arr.shape[0]),\n",
    "        fftfreq(arr.shape[1], d=1./arr.shape[1]),\n",
    "        fftfreq(arr.shape[2], d=1./arr.shape[2])\n",
    "    )\n",
    "    m = (mx**2 + my**2 + mz**2)**0.5\n",
    "    \n",
    "    ftarr = np.fft.fftn(arr)\n",
    "    psd = np.abs(ftarr)**2\n",
    "    \n",
    "    mbin_edges = np.linspace(0, np.amax(m)+1, num=int(mbinfactor*np.amax(m)+1), endpoint=True)\n",
    "    mbin_centers = (mbin_edges[1:] - mbin_edges[:-1])/2 + mbin_edges[:-1]  # linear space...\n",
    "    mbin_values = np.zeros(mbin_centers.shape)\n",
    "    \n",
    "    mbin_idx = np.digitize(m.flatten(), mbin_edges)\n",
    "\n",
    "    for p, i in zip(psd.flatten(), mbin_idx):\n",
    "        mbin_values[i] += p\n",
    "    \n",
    "    return mbin_centers, mbin_values"
   ]
  },
  {
   "cell_type": "code",
   "execution_count": null,
   "metadata": {},
   "outputs": [],
   "source": [
    "def plot_psd(k, px, py, pz, kmin, kmax):\n",
    "    \"\"\"Input: k range, power in vx,vy,vz\n",
    "    kmin,kmax = range of expected k for plotting\n",
    "    \"\"\"\n",
    "    plt.plot(k, px, '.-', label='vx')\n",
    "    plt.plot(k, py, '.-', label='vy')\n",
    "    plt.plot(k, pz, '.-', label='vz')\n",
    "\n",
    "    plt.axvline(kmin, color='k', linestyle=':')\n",
    "    plt.axvline(kmax, color='k', linestyle=':')\n",
    "    \n",
    "    # figure out where to put slope-y lines\n",
    "    k_pin = 10\n",
    "    p_pin = 2 * px[np.searchsorted(k, k_pin)]\n",
    "    \n",
    "    plot_logslope(k_pin, p_pin, -5./3, kmin, '-k', linewidth=0.5, label='-5/3')\n",
    "    plot_logslope(k_pin, p_pin, -5./3, kmax, '-k', linewidth=0.5)\n",
    "    \n",
    "    plot_logslope(k_pin, p_pin, -6./3, kmin, '-r', linewidth=0.5, label='-6/3')\n",
    "    plot_logslope(k_pin, p_pin, -6./3, kmax, '-r', linewidth=0.5)\n",
    "    \n",
    "    plt.legend()\n",
    "    \n",
    "    plt.xlabel('k (2pi/Lbox)')\n",
    "    plt.ylabel('power P(k) dk')\n",
    "    plt.yscale('log')\n",
    "    plt.xscale('log')"
   ]
  },
  {
   "cell_type": "markdown",
   "metadata": {},
   "source": [
    "# Does PSD recover {slope, kmin, kmax} in mock data from `turb_sphere.py`?"
   ]
  },
  {
   "cell_type": "code",
   "execution_count": null,
   "metadata": {},
   "outputs": [],
   "source": [
    "def create_spspace_box(kmin, kmax, NCD, Eslp):\n",
    "    ssbox = np.zeros(NCD, dtype=complex)\n",
    "\n",
    "    # first, create uniform complex random spectrum in whole array\n",
    "    # range of coeffs is (-sqrt(2)/2, sqrt(2)/2), it results in\n",
    "    # range (-1,1) for coeffiecient magnitudes\n",
    "    ssbox.real = np.sqrt(2.)*(np.random.rand(NCD[0],NCD[1],NCD[2]) - 0.5)\n",
    "    ssbox.imag = np.sqrt(2.)*(np.random.rand(NCD[0],NCD[1],NCD[2]) - 0.5)\n",
    "\n",
    "    # create mask that filters selected modes and gives weights according to the\n",
    "    # given spectrum (Eslp)\n",
    "    ax = NCD[0]/2-np.abs(np.arange(NCD[0], dtype=np.float64)-NCD[0]/2)\n",
    "    ay = NCD[1]/2-np.abs(np.arange(NCD[1], dtype=np.float64)-NCD[1]/2)\n",
    "    az = NCD[2]/2-np.abs(np.arange(NCD[2], dtype=np.float64)-NCD[2]/2)\n",
    "\n",
    "    (mx, my, mz) = np.meshgrid(ax,ay,az)\n",
    "\n",
    "    mask = mx*mx + my*my + mz*mz\n",
    "    mask[np.where(mask < kmin*kmin)] = 0\n",
    "    mask[np.where(mask > kmax*kmax)] = 0\n",
    "    # E(k) ~ k^Eslp; number of modes grows with k^2 => Eslp-2\n",
    "    # v ~ sqrt(E) => 0.5*Eslp-1, k^2 is in mask => 0.25*Eslp-0.5\n",
    "    mask[np.where(mask>0)] = mask[np.where(mask>0)]**(0.25*Eslp-0.5)\n",
    "\n",
    "    ssbox *= mask\n",
    "    return ssbox\n",
    "\n",
    "def kolmogorov_vel(NCD, kmin, kmax, Eslp):\n",
    "    # create velocity field in spectral space (sp_vel[xyz])\n",
    "    # and FFT it to configuration space (vel[xyz])\n",
    "    sp_velx = create_spspace_box(kmin, kmax, NCD, Eslp)\n",
    "    sp_vely = create_spspace_box(kmin, kmax, NCD, Eslp)\n",
    "    sp_velz = create_spspace_box(kmin, kmax, NCD, Eslp)\n",
    "\n",
    "    velx = np.fft.ifftn(sp_velx).real\n",
    "    vely = np.fft.ifftn(sp_vely).real\n",
    "    velz = np.fft.ifftn(sp_velz).real\n",
    "\n",
    "    return (velx, vely, velz)"
   ]
  },
  {
   "cell_type": "code",
   "execution_count": null,
   "metadata": {},
   "outputs": [],
   "source": [
    "test_slope = -5./3\n",
    "test_kmax = 32\n",
    "\n",
    "for test_kmin in [0.1, 1, 3, 5]:\n",
    "    vxtest, vytest, vztest = kolmogorov_vel((NBLOCK,NBLOCK,NBLOCK), test_kmin, test_kmax, test_slope)\n",
    "\n",
    "    # apply fake mask to zero out velocities\n",
    "    ax = np.linspace(-BOXHW, +BOXHW, NBLOCK)\n",
    "    ay = np.linspace(-BOXHW, +BOXHW, NBLOCK)\n",
    "    az = np.linspace(-BOXHW, +BOXHW, NBLOCK)\n",
    "    (xx, yy, zz) = np.meshgrid(ax, ay, az)\n",
    "    rr = xx**2+yy**2+zz**2\n",
    "\n",
    "    vxtest[rr>RADIUS**2] = 0\n",
    "    vytest[rr>RADIUS**2] = 0\n",
    "    vztest[rr>RADIUS**2] = 0\n",
    "\n",
    "    mtest, pxtest = compute_psd(vxtest, mbinfactor=2)\n",
    "    mtest, pytest = compute_psd(vytest, mbinfactor=2)\n",
    "    mtest, pztest = compute_psd(vztest, mbinfactor=2)\n",
    "    \n",
    "    plot_psd(mtest, pxtest, pytest, pztest, test_kmin, test_kmax)\n",
    "    plt.ylim(1e-5, 1e0)\n",
    "    plt.show()\n",
    "    \n",
    "    del vxtest, vytest, vztest, ax, ay, az, xx, yy, zz, rr, mtest, pxtest, pytest, pztest"
   ]
  },
  {
   "cell_type": "markdown",
   "metadata": {},
   "source": [
    "# PSD for the 128^3 cube"
   ]
  },
  {
   "cell_type": "code",
   "execution_count": null,
   "metadata": {},
   "outputs": [],
   "source": [
    "m, px = compute_psd(cube_vx, mbinfactor=2)\n",
    "m, py = compute_psd(cube_vy, mbinfactor=2)\n",
    "m, pz = compute_psd(cube_vz, mbinfactor=2)"
   ]
  },
  {
   "cell_type": "code",
   "execution_count": null,
   "metadata": {},
   "outputs": [],
   "source": [
    "plot_psd(m, px, py, pz, 1, 32)\n",
    "plt.ylim(3e17,3e22)\n",
    "plt.title(CUBE)\n",
    "plt.show()"
   ]
  },
  {
   "cell_type": "markdown",
   "metadata": {},
   "source": [
    "# PSD for the plt_cnt_0000 output file"
   ]
  },
  {
   "cell_type": "code",
   "execution_count": null,
   "metadata": {},
   "outputs": [],
   "source": [
    "m_ds, px_ds = compute_psd(cover['velx'], mbinfactor=2)\n",
    "m_ds, py_ds = compute_psd(cover['vely'], mbinfactor=2)\n",
    "m_ds, pz_ds = compute_psd(cover['velz'], mbinfactor=2)"
   ]
  },
  {
   "cell_type": "code",
   "execution_count": null,
   "metadata": {},
   "outputs": [],
   "source": [
    "plot_psd(m_ds, px_ds, py_ds, pz_ds, 1, 32)\n",
    "\n",
    "if \"M3V02BWL10_USM\" in INITIAL_PLT:\n",
    "    plt.ylim(1e18, 1e24)\n",
    "elif \"M5V02AW_bad_IGIMF_start\" in INITIAL_PLT:\n",
    "    plt.ylim(1e17, 1e22)\n",
    "elif \"M3V02AW_USM\" in INITIAL_PLT:\n",
    "    plt.ylim(1e18, 1e23)\n",
    "\n",
    "plt.title(INITIAL_PLT)\n",
    "plt.show()"
   ]
  },
  {
   "cell_type": "markdown",
   "metadata": {},
   "source": [
    "# In M3V02BWL10 the slope looks like -2.  Is this an artifact of higher base refinement?\n",
    "\n",
    "Answer: probably not."
   ]
  },
  {
   "cell_type": "code",
   "execution_count": null,
   "metadata": {},
   "outputs": [],
   "source": [
    "if \"M3V02BWL10_USM\" in INITIAL_PLT:\n",
    "    \n",
    "    cover_down = ds.covering_grid(level=NREF-2, left_edge=ds.domain_left_edge,\n",
    "                                  dims=ds.domain_dimensions*2**(NREF-2))\n",
    "    \n",
    "    print(\"NREF-1 shape\", cover['velx'].shape)\n",
    "    print(\"NREF-2 shape\", cover_down['velx'].shape)\n",
    "    \n",
    "    m_dsd, px_dsd = compute_psd(cover_down['velx'], mbinfactor=2)\n",
    "    m_dsd, py_dsd = compute_psd(cover_down['vely'], mbinfactor=2)\n",
    "    m_dsd, pz_dsd = compute_psd(cover_down['velz'], mbinfactor=2)"
   ]
  },
  {
   "cell_type": "code",
   "execution_count": null,
   "metadata": {},
   "outputs": [],
   "source": [
    "if \"M3V02BWL10_USM\" in INITIAL_PLT:\n",
    "    plt.plot(m_dsd, px_dsd, '.-', label='velx')\n",
    "    plt.plot(m_dsd, py_dsd, '.-', label='vely')\n",
    "    plt.plot(m_dsd, pz_dsd, '.-', label='velz')\n",
    "\n",
    "    plt.axvline(1, color='k',alpha=0.5)\n",
    "    plt.axvline(32, color='k',alpha=0.5)\n",
    "    \n",
    "    plot_logslope(1, 1e21, -5./3, 64, '-k', label='-5/3')\n",
    "    plot_logslope(1, 1e21, -6./3, 64, '-r', label='-6/3')\n",
    "    plt.ylim(1e17, 1e23)\n",
    "\n",
    "    plt.title(INITIAL_PLT)\n",
    "    plt.legend()\n",
    "    plt.yscale('log')\n",
    "    plt.xscale('log')\n",
    "    plt.xlabel('Frequency (Lbox^-1)')\n",
    "    plt.ylabel('Power P(k) dk')\n",
    "    plt.show()"
   ]
  }
 ],
 "metadata": {
  "anaconda-cloud": {},
  "kernelspec": {
   "display_name": "Python 2",
   "language": "python",
   "name": "python2"
  },
  "language_info": {
   "codemirror_mode": {
    "name": "ipython",
    "version": 2
   },
   "file_extension": ".py",
   "mimetype": "text/x-python",
   "name": "python",
   "nbconvert_exporter": "python",
   "pygments_lexer": "ipython2",
   "version": "2.7.16"
  }
 },
 "nbformat": 4,
 "nbformat_minor": 2
}
