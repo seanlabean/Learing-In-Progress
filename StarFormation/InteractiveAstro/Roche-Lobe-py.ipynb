{
 "cells": [
  {
   "cell_type": "code",
   "execution_count": 1,
   "metadata": {
    "collapsed": true
   },
   "outputs": [],
   "source": [
    "import numpy as np\n",
    "import matplotlib.pyplot as plt"
   ]
  },
  {
   "cell_type": "markdown",
   "metadata": {},
   "source": [
    "$r_{L} = \\frac{r_{1}}{A} = \\frac{0.49q^{2/3}}{0.6q^{2/3} + ln(1+q^{1/3})}$\n",
    "\n",
    "Where A is the orbital separation between bodies, $r_{1}$ is the radius corresponding to the appropriate Roche Lobe volume, and q is the mass rato $M_{1}/M_{2}$"
   ]
  },
  {
   "cell_type": "code",
   "execution_count": 19,
   "metadata": {},
   "outputs": [
    {
     "name": "stdout",
     "output_type": "stream",
     "text": [
      "[  2.34375000e-02   1.87500000e-01   6.32812500e-01 ...,   1.49966253e+12\n",
      "   1.49977501e+12   1.49988750e+12]\n",
      "[  4.26666667e+05   5.33333333e+04   1.58024691e+04 ...,   6.66816689e-09\n",
      "   6.66766677e-09   6.66716669e-09]\n"
     ]
    }
   ],
   "source": [
    "A = np.arange(1,4e4) # parsecs\n",
    "maxvolume = (np.pi * 4e4 ** 3) * 4./3\n",
    "milkywaymass = 1.5e12 * ((4./3) * np.pi * A**3) / maxvolume # solar masses'\n",
    "print milkywaymass\n",
    "cloudmass = 1e4\n",
    "\n",
    "q = cloudmass/milkywaymass\n",
    "print q\n",
    "\n",
    "r1 = A * (0.49 * q ** (2./3))/(0.6 * q **(2./3) + np.log(1+q**(1./3)))"
   ]
  },
  {
   "cell_type": "code",
   "execution_count": 20,
   "metadata": {},
   "outputs": [
    {
     "data": {
      "image/png": "[encoded data removed]",
      "text/plain": [
       "<matplotlib.figure.Figure at 0x1150a45d0>"
      ]
     },
     "metadata": {},
     "output_type": "display_data"
    }
   ],
   "source": [
    "plt.figure(figsize=(8,6))\n",
    "plt.semilogx(A, r1)\n",
    "plt.title('Test')\n",
    "plt.xlabel('Title')\n",
    "plt.show()\n"
   ]
  },
  {
   "cell_type": "code",
   "execution_count": null,
   "metadata": {
    "collapsed": true
   },
   "outputs": [],
   "source": []
  }
 ],
 "metadata": {
  "kernelspec": {
   "display_name": "Python 2",
   "language": "python",
   "name": "python2"
  },
  "language_info": {
   "codemirror_mode": {
    "name": "ipython",
    "version": 2
   },
   "file_extension": ".py",
   "mimetype": "text/x-python",
   "name": "python",
   "nbconvert_exporter": "python",
   "pygments_lexer": "ipython2",
   "version": "2.7.3"
  }
 },
 "nbformat": 4,
 "nbformat_minor": 2
}
